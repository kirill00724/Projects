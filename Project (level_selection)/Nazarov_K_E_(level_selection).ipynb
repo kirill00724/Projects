{
  "cells": [
    {
      "cell_type": "markdown",
      "id": "67ae0dd3",
      "metadata": {
        "id": "67ae0dd3"
      },
      "source": [
        "#Описание гипотезы"
      ]
    },
    {
      "cell_type": "markdown",
      "id": "bb64022d",
      "metadata": {
        "id": "bb64022d"
      },
      "source": [
        "Проверим два предположения:\n",
        "\n",
        "Зависит ли вероятность оплаты от выбранного пользователем уровня сложности бесплатных тренировок?\n",
        "Существует ли разница во времени между пользователями с разным уровнем сложности и их первой оплатой?\n",
        "Проверку будем производить на основе данных пользователей, которые зарегистрировались в 2018 году.\n",
        "\n",
        "Ход проверки"
      ]
    },
    {
      "cell_type": "code",
      "execution_count": 1,
      "id": "f1644c76",
      "metadata": {
        "id": "f1644c76"
      },
      "outputs": [],
      "source": [
        "import pandas as pd"
      ]
    },
    {
      "cell_type": "code",
      "execution_count": 4,
      "id": "13f07350",
      "metadata": {
        "scrolled": true,
        "id": "13f07350",
        "outputId": "4229491e-8685-4df8-c510-786fbcc64f1c",
        "colab": {
          "base_uri": "https://localhost:8080/",
          "height": 364
        }
      },
      "outputs": [
        {
          "output_type": "error",
          "ename": "FileNotFoundError",
          "evalue": "ignored",
          "traceback": [
            "\u001b[0;31m---------------------------------------------------------------------------\u001b[0m",
            "\u001b[0;31mFileNotFoundError\u001b[0m                         Traceback (most recent call last)",
            "\u001b[0;32m<ipython-input-4-404d859dd8b5>\u001b[0m in \u001b[0;36m<module>\u001b[0;34m()\u001b[0m\n\u001b[0;32m----> 1\u001b[0;31m \u001b[0mevents\u001b[0m \u001b[0;34m=\u001b[0m \u001b[0mpd\u001b[0m\u001b[0;34m.\u001b[0m\u001b[0mread_csv\u001b[0m\u001b[0;34m(\u001b[0m\u001b[0;34m'C:\\data/7_4_Events.csv'\u001b[0m\u001b[0;34m,\u001b[0m \u001b[0msep\u001b[0m\u001b[0;34m=\u001b[0m\u001b[0;34m','\u001b[0m\u001b[0;34m)\u001b[0m\u001b[0;34m\u001b[0m\u001b[0;34m\u001b[0m\u001b[0m\n\u001b[0m\u001b[1;32m      2\u001b[0m \u001b[0mpurchase_df\u001b[0m \u001b[0;34m=\u001b[0m \u001b[0mpd\u001b[0m\u001b[0;34m.\u001b[0m\u001b[0mread_csv\u001b[0m\u001b[0;34m(\u001b[0m\u001b[0;34m'C:\\data/purchase.csv'\u001b[0m\u001b[0;34m,\u001b[0m \u001b[0msep\u001b[0m\u001b[0;34m=\u001b[0m\u001b[0;34m','\u001b[0m\u001b[0;34m)\u001b[0m\u001b[0;34m\u001b[0m\u001b[0;34m\u001b[0m\u001b[0m\n\u001b[1;32m      3\u001b[0m \u001b[0mevents\u001b[0m\u001b[0;34m.\u001b[0m\u001b[0mhead\u001b[0m\u001b[0;34m(\u001b[0m\u001b[0;36m5\u001b[0m\u001b[0;34m)\u001b[0m\u001b[0;34m\u001b[0m\u001b[0;34m\u001b[0m\u001b[0m\n\u001b[1;32m      4\u001b[0m \u001b[0mpurchase_df\u001b[0m\u001b[0;34m.\u001b[0m\u001b[0mhead\u001b[0m\u001b[0;34m(\u001b[0m\u001b[0;36m5\u001b[0m\u001b[0;34m)\u001b[0m\u001b[0;34m\u001b[0m\u001b[0;34m\u001b[0m\u001b[0m\n",
            "\u001b[0;32m/usr/local/lib/python3.7/dist-packages/pandas/util/_decorators.py\u001b[0m in \u001b[0;36mwrapper\u001b[0;34m(*args, **kwargs)\u001b[0m\n\u001b[1;32m    309\u001b[0m                     \u001b[0mstacklevel\u001b[0m\u001b[0;34m=\u001b[0m\u001b[0mstacklevel\u001b[0m\u001b[0;34m,\u001b[0m\u001b[0;34m\u001b[0m\u001b[0;34m\u001b[0m\u001b[0m\n\u001b[1;32m    310\u001b[0m                 )\n\u001b[0;32m--> 311\u001b[0;31m             \u001b[0;32mreturn\u001b[0m \u001b[0mfunc\u001b[0m\u001b[0;34m(\u001b[0m\u001b[0;34m*\u001b[0m\u001b[0margs\u001b[0m\u001b[0;34m,\u001b[0m \u001b[0;34m**\u001b[0m\u001b[0mkwargs\u001b[0m\u001b[0;34m)\u001b[0m\u001b[0;34m\u001b[0m\u001b[0;34m\u001b[0m\u001b[0m\n\u001b[0m\u001b[1;32m    312\u001b[0m \u001b[0;34m\u001b[0m\u001b[0m\n\u001b[1;32m    313\u001b[0m         \u001b[0;32mreturn\u001b[0m \u001b[0mwrapper\u001b[0m\u001b[0;34m\u001b[0m\u001b[0;34m\u001b[0m\u001b[0m\n",
            "\u001b[0;32m/usr/local/lib/python3.7/dist-packages/pandas/io/parsers/readers.py\u001b[0m in \u001b[0;36mread_csv\u001b[0;34m(filepath_or_buffer, sep, delimiter, header, names, index_col, usecols, squeeze, prefix, mangle_dupe_cols, dtype, engine, converters, true_values, false_values, skipinitialspace, skiprows, skipfooter, nrows, na_values, keep_default_na, na_filter, verbose, skip_blank_lines, parse_dates, infer_datetime_format, keep_date_col, date_parser, dayfirst, cache_dates, iterator, chunksize, compression, thousands, decimal, lineterminator, quotechar, quoting, doublequote, escapechar, comment, encoding, encoding_errors, dialect, error_bad_lines, warn_bad_lines, on_bad_lines, delim_whitespace, low_memory, memory_map, float_precision, storage_options)\u001b[0m\n\u001b[1;32m    584\u001b[0m     \u001b[0mkwds\u001b[0m\u001b[0;34m.\u001b[0m\u001b[0mupdate\u001b[0m\u001b[0;34m(\u001b[0m\u001b[0mkwds_defaults\u001b[0m\u001b[0;34m)\u001b[0m\u001b[0;34m\u001b[0m\u001b[0;34m\u001b[0m\u001b[0m\n\u001b[1;32m    585\u001b[0m \u001b[0;34m\u001b[0m\u001b[0m\n\u001b[0;32m--> 586\u001b[0;31m     \u001b[0;32mreturn\u001b[0m \u001b[0m_read\u001b[0m\u001b[0;34m(\u001b[0m\u001b[0mfilepath_or_buffer\u001b[0m\u001b[0;34m,\u001b[0m \u001b[0mkwds\u001b[0m\u001b[0;34m)\u001b[0m\u001b[0;34m\u001b[0m\u001b[0;34m\u001b[0m\u001b[0m\n\u001b[0m\u001b[1;32m    587\u001b[0m \u001b[0;34m\u001b[0m\u001b[0m\n\u001b[1;32m    588\u001b[0m \u001b[0;34m\u001b[0m\u001b[0m\n",
            "\u001b[0;32m/usr/local/lib/python3.7/dist-packages/pandas/io/parsers/readers.py\u001b[0m in \u001b[0;36m_read\u001b[0;34m(filepath_or_buffer, kwds)\u001b[0m\n\u001b[1;32m    480\u001b[0m \u001b[0;34m\u001b[0m\u001b[0m\n\u001b[1;32m    481\u001b[0m     \u001b[0;31m# Create the parser.\u001b[0m\u001b[0;34m\u001b[0m\u001b[0;34m\u001b[0m\u001b[0;34m\u001b[0m\u001b[0m\n\u001b[0;32m--> 482\u001b[0;31m     \u001b[0mparser\u001b[0m \u001b[0;34m=\u001b[0m \u001b[0mTextFileReader\u001b[0m\u001b[0;34m(\u001b[0m\u001b[0mfilepath_or_buffer\u001b[0m\u001b[0;34m,\u001b[0m \u001b[0;34m**\u001b[0m\u001b[0mkwds\u001b[0m\u001b[0;34m)\u001b[0m\u001b[0;34m\u001b[0m\u001b[0;34m\u001b[0m\u001b[0m\n\u001b[0m\u001b[1;32m    483\u001b[0m \u001b[0;34m\u001b[0m\u001b[0m\n\u001b[1;32m    484\u001b[0m     \u001b[0;32mif\u001b[0m \u001b[0mchunksize\u001b[0m \u001b[0;32mor\u001b[0m \u001b[0miterator\u001b[0m\u001b[0;34m:\u001b[0m\u001b[0;34m\u001b[0m\u001b[0;34m\u001b[0m\u001b[0m\n",
            "\u001b[0;32m/usr/local/lib/python3.7/dist-packages/pandas/io/parsers/readers.py\u001b[0m in \u001b[0;36m__init__\u001b[0;34m(self, f, engine, **kwds)\u001b[0m\n\u001b[1;32m    809\u001b[0m             \u001b[0mself\u001b[0m\u001b[0;34m.\u001b[0m\u001b[0moptions\u001b[0m\u001b[0;34m[\u001b[0m\u001b[0;34m\"has_index_names\"\u001b[0m\u001b[0;34m]\u001b[0m \u001b[0;34m=\u001b[0m \u001b[0mkwds\u001b[0m\u001b[0;34m[\u001b[0m\u001b[0;34m\"has_index_names\"\u001b[0m\u001b[0;34m]\u001b[0m\u001b[0;34m\u001b[0m\u001b[0;34m\u001b[0m\u001b[0m\n\u001b[1;32m    810\u001b[0m \u001b[0;34m\u001b[0m\u001b[0m\n\u001b[0;32m--> 811\u001b[0;31m         \u001b[0mself\u001b[0m\u001b[0;34m.\u001b[0m\u001b[0m_engine\u001b[0m \u001b[0;34m=\u001b[0m \u001b[0mself\u001b[0m\u001b[0;34m.\u001b[0m\u001b[0m_make_engine\u001b[0m\u001b[0;34m(\u001b[0m\u001b[0mself\u001b[0m\u001b[0;34m.\u001b[0m\u001b[0mengine\u001b[0m\u001b[0;34m)\u001b[0m\u001b[0;34m\u001b[0m\u001b[0;34m\u001b[0m\u001b[0m\n\u001b[0m\u001b[1;32m    812\u001b[0m \u001b[0;34m\u001b[0m\u001b[0m\n\u001b[1;32m    813\u001b[0m     \u001b[0;32mdef\u001b[0m \u001b[0mclose\u001b[0m\u001b[0;34m(\u001b[0m\u001b[0mself\u001b[0m\u001b[0;34m)\u001b[0m\u001b[0;34m:\u001b[0m\u001b[0;34m\u001b[0m\u001b[0;34m\u001b[0m\u001b[0m\n",
            "\u001b[0;32m/usr/local/lib/python3.7/dist-packages/pandas/io/parsers/readers.py\u001b[0m in \u001b[0;36m_make_engine\u001b[0;34m(self, engine)\u001b[0m\n\u001b[1;32m   1038\u001b[0m             )\n\u001b[1;32m   1039\u001b[0m         \u001b[0;31m# error: Too many arguments for \"ParserBase\"\u001b[0m\u001b[0;34m\u001b[0m\u001b[0;34m\u001b[0m\u001b[0;34m\u001b[0m\u001b[0m\n\u001b[0;32m-> 1040\u001b[0;31m         \u001b[0;32mreturn\u001b[0m \u001b[0mmapping\u001b[0m\u001b[0;34m[\u001b[0m\u001b[0mengine\u001b[0m\u001b[0;34m]\u001b[0m\u001b[0;34m(\u001b[0m\u001b[0mself\u001b[0m\u001b[0;34m.\u001b[0m\u001b[0mf\u001b[0m\u001b[0;34m,\u001b[0m \u001b[0;34m**\u001b[0m\u001b[0mself\u001b[0m\u001b[0;34m.\u001b[0m\u001b[0moptions\u001b[0m\u001b[0;34m)\u001b[0m  \u001b[0;31m# type: ignore[call-arg]\u001b[0m\u001b[0;34m\u001b[0m\u001b[0;34m\u001b[0m\u001b[0m\n\u001b[0m\u001b[1;32m   1041\u001b[0m \u001b[0;34m\u001b[0m\u001b[0m\n\u001b[1;32m   1042\u001b[0m     \u001b[0;32mdef\u001b[0m \u001b[0m_failover_to_python\u001b[0m\u001b[0;34m(\u001b[0m\u001b[0mself\u001b[0m\u001b[0;34m)\u001b[0m\u001b[0;34m:\u001b[0m\u001b[0;34m\u001b[0m\u001b[0;34m\u001b[0m\u001b[0m\n",
            "\u001b[0;32m/usr/local/lib/python3.7/dist-packages/pandas/io/parsers/c_parser_wrapper.py\u001b[0m in \u001b[0;36m__init__\u001b[0;34m(self, src, **kwds)\u001b[0m\n\u001b[1;32m     49\u001b[0m \u001b[0;34m\u001b[0m\u001b[0m\n\u001b[1;32m     50\u001b[0m         \u001b[0;31m# open handles\u001b[0m\u001b[0;34m\u001b[0m\u001b[0;34m\u001b[0m\u001b[0;34m\u001b[0m\u001b[0m\n\u001b[0;32m---> 51\u001b[0;31m         \u001b[0mself\u001b[0m\u001b[0;34m.\u001b[0m\u001b[0m_open_handles\u001b[0m\u001b[0;34m(\u001b[0m\u001b[0msrc\u001b[0m\u001b[0;34m,\u001b[0m \u001b[0mkwds\u001b[0m\u001b[0;34m)\u001b[0m\u001b[0;34m\u001b[0m\u001b[0;34m\u001b[0m\u001b[0m\n\u001b[0m\u001b[1;32m     52\u001b[0m         \u001b[0;32massert\u001b[0m \u001b[0mself\u001b[0m\u001b[0;34m.\u001b[0m\u001b[0mhandles\u001b[0m \u001b[0;32mis\u001b[0m \u001b[0;32mnot\u001b[0m \u001b[0;32mNone\u001b[0m\u001b[0;34m\u001b[0m\u001b[0;34m\u001b[0m\u001b[0m\n\u001b[1;32m     53\u001b[0m \u001b[0;34m\u001b[0m\u001b[0m\n",
            "\u001b[0;32m/usr/local/lib/python3.7/dist-packages/pandas/io/parsers/base_parser.py\u001b[0m in \u001b[0;36m_open_handles\u001b[0;34m(self, src, kwds)\u001b[0m\n\u001b[1;32m    227\u001b[0m             \u001b[0mmemory_map\u001b[0m\u001b[0;34m=\u001b[0m\u001b[0mkwds\u001b[0m\u001b[0;34m.\u001b[0m\u001b[0mget\u001b[0m\u001b[0;34m(\u001b[0m\u001b[0;34m\"memory_map\"\u001b[0m\u001b[0;34m,\u001b[0m \u001b[0;32mFalse\u001b[0m\u001b[0;34m)\u001b[0m\u001b[0;34m,\u001b[0m\u001b[0;34m\u001b[0m\u001b[0;34m\u001b[0m\u001b[0m\n\u001b[1;32m    228\u001b[0m             \u001b[0mstorage_options\u001b[0m\u001b[0;34m=\u001b[0m\u001b[0mkwds\u001b[0m\u001b[0;34m.\u001b[0m\u001b[0mget\u001b[0m\u001b[0;34m(\u001b[0m\u001b[0;34m\"storage_options\"\u001b[0m\u001b[0;34m,\u001b[0m \u001b[0;32mNone\u001b[0m\u001b[0;34m)\u001b[0m\u001b[0;34m,\u001b[0m\u001b[0;34m\u001b[0m\u001b[0;34m\u001b[0m\u001b[0m\n\u001b[0;32m--> 229\u001b[0;31m             \u001b[0merrors\u001b[0m\u001b[0;34m=\u001b[0m\u001b[0mkwds\u001b[0m\u001b[0;34m.\u001b[0m\u001b[0mget\u001b[0m\u001b[0;34m(\u001b[0m\u001b[0;34m\"encoding_errors\"\u001b[0m\u001b[0;34m,\u001b[0m \u001b[0;34m\"strict\"\u001b[0m\u001b[0;34m)\u001b[0m\u001b[0;34m,\u001b[0m\u001b[0;34m\u001b[0m\u001b[0;34m\u001b[0m\u001b[0m\n\u001b[0m\u001b[1;32m    230\u001b[0m         )\n\u001b[1;32m    231\u001b[0m \u001b[0;34m\u001b[0m\u001b[0m\n",
            "\u001b[0;32m/usr/local/lib/python3.7/dist-packages/pandas/io/common.py\u001b[0m in \u001b[0;36mget_handle\u001b[0;34m(path_or_buf, mode, encoding, compression, memory_map, is_text, errors, storage_options)\u001b[0m\n\u001b[1;32m    705\u001b[0m                 \u001b[0mencoding\u001b[0m\u001b[0;34m=\u001b[0m\u001b[0mioargs\u001b[0m\u001b[0;34m.\u001b[0m\u001b[0mencoding\u001b[0m\u001b[0;34m,\u001b[0m\u001b[0;34m\u001b[0m\u001b[0;34m\u001b[0m\u001b[0m\n\u001b[1;32m    706\u001b[0m                 \u001b[0merrors\u001b[0m\u001b[0;34m=\u001b[0m\u001b[0merrors\u001b[0m\u001b[0;34m,\u001b[0m\u001b[0;34m\u001b[0m\u001b[0;34m\u001b[0m\u001b[0m\n\u001b[0;32m--> 707\u001b[0;31m                 \u001b[0mnewline\u001b[0m\u001b[0;34m=\u001b[0m\u001b[0;34m\"\"\u001b[0m\u001b[0;34m,\u001b[0m\u001b[0;34m\u001b[0m\u001b[0;34m\u001b[0m\u001b[0m\n\u001b[0m\u001b[1;32m    708\u001b[0m             )\n\u001b[1;32m    709\u001b[0m         \u001b[0;32melse\u001b[0m\u001b[0;34m:\u001b[0m\u001b[0;34m\u001b[0m\u001b[0;34m\u001b[0m\u001b[0m\n",
            "\u001b[0;31mFileNotFoundError\u001b[0m: [Errno 2] No such file or directory: 'C:\\\\data/7_4_Events.csv'"
          ]
        }
      ],
      "source": [
        "events = pd.read_csv('C:\\data/7_4_Events.csv', sep=',')\n",
        "purchase_df = pd.read_csv('C:\\data/purchase.csv', sep=',')\n",
        "events.head(5)\n",
        "purchase_df.head(5)"
      ]
    },
    {
      "cell_type": "code",
      "execution_count": null,
      "id": "c3bde31a",
      "metadata": {
        "scrolled": false,
        "id": "c3bde31a",
        "outputId": "ae4ad406-d858-4d32-cfc4-243c5ac4eb7f"
      },
      "outputs": [
        {
          "name": "stdout",
          "output_type": "stream",
          "text": [
            "Количество пользователей, выбравших easy-уровень  равно 2448\n",
            "Количество пользователей, выбравших hard-уровень  равно 1249\n",
            "Количество пользователей, выбравших medium-уровень  равно 4645\n",
            "Количество пользователей, выбравших easy-уровень и заплативших от общего числа пользователей, выбравших уровень  равно 7.72 %\n",
            "Количество пользователей, выбравших hard-уровень и заплативших от общего числа пользователей, выбравших уровень  равно 35.39 %\n",
            "Количество пользователей, выбравших medium-уровень и заплативших от общего числа пользователей, выбравших уровень  равно 20.86 %\n",
            "Среднее время между событиями оплаты и выбором уровня сложности для пользователей, выбравших easy-уровень  3 days 14:58:52.941798941\n",
            "Среднее время между событиями оплаты и выбором уровня сложности для пользователей, выбравших medium-уровень  3 days 23:14:13.165118679\n",
            "Среднее время между событиями оплаты и выбором уровня сложности для пользователей, выбравших hard-уровень  3 days 07:20:41.420814479\n"
          ]
        }
      ],
      "source": [
        "#Выделяем пользователей, которые зарегестрировались в 2018 г.\n",
        "mask1 = (events.start_time >= '2018-01-01') & \\\n",
        "        (events.start_time < '2019-01-01') & \\\n",
        "        (events.event_type == 'registration')\n",
        "registered_2018 = events[mask1]['user_id'].values.tolist()\n",
        "events_2018 = events[events['user_id'].isin(registered_2018)]\n",
        "\n",
        "\n",
        "#Переименовываем колонки\n",
        "purchase_df['event_type'] = 'purchase'\n",
        "events_2018 = events_2018.rename(columns={\"id\": \"event_id\"})\n",
        "purchase_2018 = purchase_df.rename(columns={\"id\": \"purchase_id\"})\n",
        "purchase_2018['event_datetime'] = pd.to_datetime(purchase_2018['event_datetime'])\n",
        "\n",
        "#Обьединяем таблицу с событиями и оплатой\n",
        "total_events_df_2018 = pd.concat([events_2018,purchase_2018],sort=False)\n",
        "\n",
        "#Выделяем группы пользователей в зависимости от выбранного уровня сложности\n",
        "mask1 = total_events_df_2018['selected_level'] == 'easy'\n",
        "selected_level_easy_events_df_2018 = total_events_df_2018[mask1]\n",
        "users_easy_level = selected_level_easy_events_df_2018[\"user_id\"].unique()\n",
        "print(f\"Количество пользователей, выбравших easy-уровень  равно {len(users_easy_level)}\")\n",
        "\n",
        "mask2 = total_events_df_2018['selected_level'] == 'hard'\n",
        "selected_level_hard_events_df_2018 = total_events_df_2018[mask2]\n",
        "users_hard_level = selected_level_hard_events_df_2018[\"user_id\"].unique()\n",
        "print(f\"Количество пользователей, выбравших hard-уровень  равно {len(users_hard_level)}\")\n",
        "\n",
        "mask3 = total_events_df_2018['selected_level'] == 'medium'\n",
        "selected_level_medium_events_df_2018 = total_events_df_2018[mask3]\n",
        "users_medium_level = selected_level_medium_events_df_2018[\"user_id\"].unique()\n",
        "print(f\"Количество пользователей, выбравших medium-уровень  равно {len(users_medium_level)}\")\n",
        "\n",
        "\n",
        "#Подсчет процента оплативших пользователей в зависимости от выбранного уровня сложности\n",
        "purchase_df_easy_level = purchase_df[purchase_df[\"user_id\"].isin(users_easy_level)]\n",
        "percent_of_purchase_easy_level = round(((purchase_df_easy_level[\"user_id\"].nunique() / len(\n",
        "    users_easy_level))*100),2)\n",
        "print(f\"Количество пользователей, выбравших easy-уровень и заплативших от общего числа пользователей,\"\n",
        "      f\" выбравших уровень  равно {percent_of_purchase_easy_level} %\")\n",
        "\n",
        "purchase_df_hard_level = purchase_df[purchase_df[\"user_id\"].isin(users_hard_level)]\n",
        "percent_of_purchase_hard_level = round(((purchase_df_hard_level[\"user_id\"].nunique() / len(\n",
        "    users_hard_level))*100),2)\n",
        "print(f\"Количество пользователей, выбравших hard-уровень и заплативших от общего числа пользователей,\"\n",
        "      f\" выбравших уровень  равно {percent_of_purchase_hard_level} %\")\n",
        "\n",
        "purchase_df_medium_level = purchase_df[purchase_df[\"user_id\"].isin(users_medium_level)]\n",
        "percent_of_purchase_medium_level = round(((purchase_df_medium_level[\"user_id\"].nunique() / len(\n",
        "    users_medium_level))*100),2)\n",
        "print(f\"Количество пользователей, выбравших medium-уровень и заплативших от общего числа пользователей,\"\n",
        "      f\" выбравших уровень  равно {percent_of_purchase_medium_level} %\")\n",
        "\n",
        "#Подсчет среднего времени между событиями оплаты и выбором уровня сложности\n",
        "\n",
        "level_choice_df = total_events_df_2018[(total_events_df_2018['event_type'] == 'level_choice') & (total_events_df_2018['user_id'].isin(registered_2018))]\n",
        "if level_choice_df['user_id'].value_counts().mean() == 1:\n",
        "    selected_level_easy = selected_level_easy_events_df_2018[['user_id', 'start_time']].copy()\n",
        "    selected_level_easy['start_time'] = pd.to_datetime(selected_level_easy['start_time'])\n",
        "    selected_and_purchase_level_easy = purchase_df[purchase_df[\"user_id\"].isin(users_easy_level)].copy()\n",
        "    selected_and_purchase_level_easy['event_datetime'] = pd.to_datetime(selected_and_purchase_level_easy['event_datetime'])\n",
        "    merged_easy_df = selected_level_easy.merge(selected_and_purchase_level_easy, on=\"user_id\", how=\"inner\")\n",
        "    merged_easy_df[\"timedelta\"] = merged_easy_df[\"event_datetime\"] - merged_easy_df[\"start_time\"]\n",
        "    print(f\"Среднее время между событиями оплаты и выбором уровня сложности для пользователей, выбравших easy-уровень\"\n",
        "          f\"  {merged_easy_df['timedelta'].mean()}\")\n",
        "\n",
        "    selected_level_medium = selected_level_medium_events_df_2018[[\"user_id\", \"start_time\"]].copy()\n",
        "    selected_level_medium['start_time'] = pd.to_datetime(selected_level_medium['start_time'])\n",
        "    selected_and_purchase_level_medium = purchase_df[purchase_df[\"user_id\"].isin(users_medium_level)].copy()\n",
        "    selected_and_purchase_level_medium['event_datetime'] = pd.to_datetime(selected_and_purchase_level_medium['event_datetime'])\n",
        "    merged_medium_df = selected_level_medium.merge(selected_and_purchase_level_medium, on=\"user_id\", how=\"inner\")\n",
        "    merged_medium_df[\"timedelta\"] = merged_medium_df[\"event_datetime\"] - merged_medium_df[\"start_time\"]\n",
        "    print(f\"Среднее время между событиями оплаты и выбором уровня сложности для пользователей, выбравших medium-уровень\"\n",
        "          f\"  {merged_medium_df['timedelta'].mean()}\")\n",
        "\n",
        "    selected_level_hard = selected_level_hard_events_df_2018[[\"user_id\", \"start_time\"]].copy()\n",
        "    selected_level_hard['start_time'] = pd.to_datetime(selected_level_hard['start_time'])\n",
        "    selected_and_purchase_level_hard = purchase_df[purchase_df[\"user_id\"].isin(users_hard_level)].copy()\n",
        "    selected_and_purchase_level_hard['event_datetime'] = pd.to_datetime(selected_and_purchase_level_hard['event_datetime'])\n",
        "    merged_hard_df = selected_level_hard.merge(selected_and_purchase_level_hard, on=\"user_id\", how=\"inner\")\n",
        "    merged_hard_df[\"timedelta\"] = merged_hard_df[\"event_datetime\"] - merged_hard_df[\"start_time\"]\n",
        "    print(f\"Среднее время между событиями оплаты и выбором уровня сложности для пользователей, выбравших hard-уровень\"\n",
        "          f\"  {merged_hard_df['timedelta'].mean()}\")\n",
        "else:\n",
        "        print ('Более 1 события выбора уровня сложности')"
      ]
    },
    {
      "cell_type": "markdown",
      "id": "e1de2adb",
      "metadata": {
        "id": "e1de2adb"
      },
      "source": [
        "#Выводы\n",
        "Процент оплативших пользователей, выбравших уровень сложности easy: 7.72% Процент оплативших пользователей, выбравших уровень сложности medium: 20.86% Процент оплативших пользователей, выбравших уровень сложности hard: 35.39%\n",
        "\n",
        "Таким образом, существует прямая зависимость между выбранным уровнем сложности и процент пользователей, которые оплатили тренировки. Пользователи, выбирающие более сложные тренировки, чаще покупают платные тренировки.\n",
        "\n",
        "Наибольшее время между событием выбора уровня сложности и моментом первой оплаты, тратят пользователи, которые выбрали уровень сложности medium. Для них среднее время составляет 3 дня 23 часа, а медианное время 3 дня 19 часов.\n",
        "\n",
        "Чуть меньше времени тратят пользователи, выбравшие уровень сложности easy. Для них среднее время составляет 3 дня 14 часов, а медианное время 3 дня 6 часов.\n",
        "\n",
        "Меньше всего времени на принятие решение о покупке тратят пользователя, выбравшие уровень сложности hard. Для них среднее время составляет 3 дня 7 часов, а медианное время 3 дня 13 часов."
      ]
    }
  ],
  "metadata": {
    "kernelspec": {
      "display_name": "Python 3 (ipykernel)",
      "language": "python",
      "name": "python3"
    },
    "language_info": {
      "codemirror_mode": {
        "name": "ipython",
        "version": 3
      },
      "file_extension": ".py",
      "mimetype": "text/x-python",
      "name": "python",
      "nbconvert_exporter": "python",
      "pygments_lexer": "ipython3",
      "version": "3.9.7"
    },
    "colab": {
      "name": "Nazarov K.E. (level selection).ipynb",
      "provenance": []
    }
  },
  "nbformat": 4,
  "nbformat_minor": 5
}
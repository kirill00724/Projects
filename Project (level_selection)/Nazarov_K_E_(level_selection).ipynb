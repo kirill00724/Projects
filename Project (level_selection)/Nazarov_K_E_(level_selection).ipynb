{
  "cells": [
    {
      "cell_type": "markdown",
      "id": "67ae0dd3",
      "metadata": {
        "id": "67ae0dd3"
      },
      "source": [
        "#Описание гипотезы"
      ]
    },
    {
      "cell_type": "markdown",
      "id": "bb64022d",
      "metadata": {
        "id": "bb64022d"
      },
      "source": [
        "Проверим два предположения:\n",
        "\n",
        "Зависит ли вероятность оплаты от выбранного пользователем уровня сложности бесплатных тренировок?\n",
        "Существует ли разница во времени между пользователями с разным уровнем сложности и их первой оплатой?\n",
        "Проверку будем производить на основе данных пользователей, которые зарегистрировались в 2018 году.\n",
        "\n",
        "Ход проверки"
      ]
    },
    {
      "cell_type": "code",
      "execution_count": 1,
      "id": "f1644c76",
      "metadata": {
        "id": "f1644c76"
      },
      "outputs": [],
      "source": [
        "import pandas as pd"
      ]
    },
    {
      "cell_type": "code",
      "source": [
        "from google.colab import drive\n",
        "drive.mount('/content/drive')"
      ],
      "metadata": {
        "colab": {
          "base_uri": "https://localhost:8080/"
        },
        "id": "StY_ldLo7rUA",
        "outputId": "fc1fb25b-8293-415d-ebc3-d437b271f2f2"
      },
      "id": "StY_ldLo7rUA",
      "execution_count": 2,
      "outputs": [
        {
          "output_type": "stream",
          "name": "stdout",
          "text": [
            "Drive already mounted at /content/drive; to attempt to forcibly remount, call drive.mount(\"/content/drive\", force_remount=True).\n"
          ]
        }
      ]
    },
    {
      "cell_type": "code",
      "execution_count": 3,
      "id": "13f07350",
      "metadata": {
        "scrolled": true,
        "id": "13f07350",
        "outputId": "ecd94c88-4e82-4537-b016-3faaa6412678",
        "colab": {
          "base_uri": "https://localhost:8080/",
          "height": 206
        }
      },
      "outputs": [
        {
          "output_type": "execute_result",
          "data": {
            "text/plain": [
              "      id  user_id       event_datetime  amount\n",
              "0  15674    12584  2016-05-12T10:34:16     100\n",
              "1  15675    12985  2016-05-13T08:25:56      50\n",
              "2  15676    12828  2016-05-13T16:33:46      50\n",
              "3  15677    12598  2016-05-14T01:09:37     150\n",
              "4  15678    13037  2016-05-14T01:24:46     100"
            ],
            "text/html": [
              "\n",
              "  <div id=\"df-d727a25e-6225-40b2-a8e8-17595629dbd2\">\n",
              "    <div class=\"colab-df-container\">\n",
              "      <div>\n",
              "<style scoped>\n",
              "    .dataframe tbody tr th:only-of-type {\n",
              "        vertical-align: middle;\n",
              "    }\n",
              "\n",
              "    .dataframe tbody tr th {\n",
              "        vertical-align: top;\n",
              "    }\n",
              "\n",
              "    .dataframe thead th {\n",
              "        text-align: right;\n",
              "    }\n",
              "</style>\n",
              "<table border=\"1\" class=\"dataframe\">\n",
              "  <thead>\n",
              "    <tr style=\"text-align: right;\">\n",
              "      <th></th>\n",
              "      <th>id</th>\n",
              "      <th>user_id</th>\n",
              "      <th>event_datetime</th>\n",
              "      <th>amount</th>\n",
              "    </tr>\n",
              "  </thead>\n",
              "  <tbody>\n",
              "    <tr>\n",
              "      <th>0</th>\n",
              "      <td>15674</td>\n",
              "      <td>12584</td>\n",
              "      <td>2016-05-12T10:34:16</td>\n",
              "      <td>100</td>\n",
              "    </tr>\n",
              "    <tr>\n",
              "      <th>1</th>\n",
              "      <td>15675</td>\n",
              "      <td>12985</td>\n",
              "      <td>2016-05-13T08:25:56</td>\n",
              "      <td>50</td>\n",
              "    </tr>\n",
              "    <tr>\n",
              "      <th>2</th>\n",
              "      <td>15676</td>\n",
              "      <td>12828</td>\n",
              "      <td>2016-05-13T16:33:46</td>\n",
              "      <td>50</td>\n",
              "    </tr>\n",
              "    <tr>\n",
              "      <th>3</th>\n",
              "      <td>15677</td>\n",
              "      <td>12598</td>\n",
              "      <td>2016-05-14T01:09:37</td>\n",
              "      <td>150</td>\n",
              "    </tr>\n",
              "    <tr>\n",
              "      <th>4</th>\n",
              "      <td>15678</td>\n",
              "      <td>13037</td>\n",
              "      <td>2016-05-14T01:24:46</td>\n",
              "      <td>100</td>\n",
              "    </tr>\n",
              "  </tbody>\n",
              "</table>\n",
              "</div>\n",
              "      <button class=\"colab-df-convert\" onclick=\"convertToInteractive('df-d727a25e-6225-40b2-a8e8-17595629dbd2')\"\n",
              "              title=\"Convert this dataframe to an interactive table.\"\n",
              "              style=\"display:none;\">\n",
              "        \n",
              "  <svg xmlns=\"http://www.w3.org/2000/svg\" height=\"24px\"viewBox=\"0 0 24 24\"\n",
              "       width=\"24px\">\n",
              "    <path d=\"M0 0h24v24H0V0z\" fill=\"none\"/>\n",
              "    <path d=\"M18.56 5.44l.94 2.06.94-2.06 2.06-.94-2.06-.94-.94-2.06-.94 2.06-2.06.94zm-11 1L8.5 8.5l.94-2.06 2.06-.94-2.06-.94L8.5 2.5l-.94 2.06-2.06.94zm10 10l.94 2.06.94-2.06 2.06-.94-2.06-.94-.94-2.06-.94 2.06-2.06.94z\"/><path d=\"M17.41 7.96l-1.37-1.37c-.4-.4-.92-.59-1.43-.59-.52 0-1.04.2-1.43.59L10.3 9.45l-7.72 7.72c-.78.78-.78 2.05 0 2.83L4 21.41c.39.39.9.59 1.41.59.51 0 1.02-.2 1.41-.59l7.78-7.78 2.81-2.81c.8-.78.8-2.07 0-2.86zM5.41 20L4 18.59l7.72-7.72 1.47 1.35L5.41 20z\"/>\n",
              "  </svg>\n",
              "      </button>\n",
              "      \n",
              "  <style>\n",
              "    .colab-df-container {\n",
              "      display:flex;\n",
              "      flex-wrap:wrap;\n",
              "      gap: 12px;\n",
              "    }\n",
              "\n",
              "    .colab-df-convert {\n",
              "      background-color: #E8F0FE;\n",
              "      border: none;\n",
              "      border-radius: 50%;\n",
              "      cursor: pointer;\n",
              "      display: none;\n",
              "      fill: #1967D2;\n",
              "      height: 32px;\n",
              "      padding: 0 0 0 0;\n",
              "      width: 32px;\n",
              "    }\n",
              "\n",
              "    .colab-df-convert:hover {\n",
              "      background-color: #E2EBFA;\n",
              "      box-shadow: 0px 1px 2px rgba(60, 64, 67, 0.3), 0px 1px 3px 1px rgba(60, 64, 67, 0.15);\n",
              "      fill: #174EA6;\n",
              "    }\n",
              "\n",
              "    [theme=dark] .colab-df-convert {\n",
              "      background-color: #3B4455;\n",
              "      fill: #D2E3FC;\n",
              "    }\n",
              "\n",
              "    [theme=dark] .colab-df-convert:hover {\n",
              "      background-color: #434B5C;\n",
              "      box-shadow: 0px 1px 3px 1px rgba(0, 0, 0, 0.15);\n",
              "      filter: drop-shadow(0px 1px 2px rgba(0, 0, 0, 0.3));\n",
              "      fill: #FFFFFF;\n",
              "    }\n",
              "  </style>\n",
              "\n",
              "      <script>\n",
              "        const buttonEl =\n",
              "          document.querySelector('#df-d727a25e-6225-40b2-a8e8-17595629dbd2 button.colab-df-convert');\n",
              "        buttonEl.style.display =\n",
              "          google.colab.kernel.accessAllowed ? 'block' : 'none';\n",
              "\n",
              "        async function convertToInteractive(key) {\n",
              "          const element = document.querySelector('#df-d727a25e-6225-40b2-a8e8-17595629dbd2');\n",
              "          const dataTable =\n",
              "            await google.colab.kernel.invokeFunction('convertToInteractive',\n",
              "                                                     [key], {});\n",
              "          if (!dataTable) return;\n",
              "\n",
              "          const docLinkHtml = 'Like what you see? Visit the ' +\n",
              "            '<a target=\"_blank\" href=https://colab.research.google.com/notebooks/data_table.ipynb>data table notebook</a>'\n",
              "            + ' to learn more about interactive tables.';\n",
              "          element.innerHTML = '';\n",
              "          dataTable['output_type'] = 'display_data';\n",
              "          await google.colab.output.renderOutput(dataTable, element);\n",
              "          const docLink = document.createElement('div');\n",
              "          docLink.innerHTML = docLinkHtml;\n",
              "          element.appendChild(docLink);\n",
              "        }\n",
              "      </script>\n",
              "    </div>\n",
              "  </div>\n",
              "  "
            ]
          },
          "metadata": {},
          "execution_count": 3
        }
      ],
      "source": [
        "events = pd.read_csv('/content/drive/My Drive/Projects/Python (Pandas)/Project_1 (level_selection)/7_4_Events.csv', sep=',')\n",
        "purchase_df = pd.read_csv('/content/drive/My Drive/Projects/Python (Pandas)/Project_1 (level_selection)/purchase.csv', sep=',')\n",
        "events.head(5)\n",
        "purchase_df.head(5)"
      ]
    },
    {
      "cell_type": "code",
      "execution_count": 4,
      "id": "c3bde31a",
      "metadata": {
        "scrolled": false,
        "id": "c3bde31a",
        "outputId": "4e6acdfe-be81-464e-a0bc-8efa4015343c",
        "colab": {
          "base_uri": "https://localhost:8080/"
        }
      },
      "outputs": [
        {
          "output_type": "stream",
          "name": "stdout",
          "text": [
            "Количество пользователей, выбравших easy-уровень  равно 2448\n",
            "Количество пользователей, выбравших hard-уровень  равно 1249\n",
            "Количество пользователей, выбравших medium-уровень  равно 4645\n",
            "Количество пользователей, выбравших easy-уровень и заплативших от общего числа пользователей, выбравших уровень  равно 7.72 %\n",
            "Количество пользователей, выбравших hard-уровень и заплативших от общего числа пользователей, выбравших уровень  равно 35.39 %\n",
            "Количество пользователей, выбравших medium-уровень и заплативших от общего числа пользователей, выбравших уровень  равно 20.86 %\n",
            "Среднее время между событиями оплаты и выбором уровня сложности для пользователей, выбравших easy-уровень  3 days 14:58:52.941798941\n",
            "Среднее время между событиями оплаты и выбором уровня сложности для пользователей, выбравших medium-уровень  3 days 23:14:13.165118679\n",
            "Среднее время между событиями оплаты и выбором уровня сложности для пользователей, выбравших hard-уровень  3 days 07:20:41.420814479\n"
          ]
        }
      ],
      "source": [
        "#Выделяем пользователей, которые зарегестрировались в 2018 г.\n",
        "mask1 = (events.start_time >= '2018-01-01') & \\\n",
        "        (events.start_time < '2019-01-01') & \\\n",
        "        (events.event_type == 'registration')\n",
        "registered_2018 = events[mask1]['user_id'].values.tolist()\n",
        "events_2018 = events[events['user_id'].isin(registered_2018)]\n",
        "\n",
        "\n",
        "#Переименовываем колонки\n",
        "purchase_df['event_type'] = 'purchase'\n",
        "events_2018 = events_2018.rename(columns={\"id\": \"event_id\"})\n",
        "purchase_2018 = purchase_df.rename(columns={\"id\": \"purchase_id\"})\n",
        "purchase_2018['event_datetime'] = pd.to_datetime(purchase_2018['event_datetime'])\n",
        "\n",
        "#Обьединяем таблицу с событиями и оплатой\n",
        "total_events_df_2018 = pd.concat([events_2018,purchase_2018],sort=False)\n",
        "\n",
        "#Выделяем группы пользователей в зависимости от выбранного уровня сложности\n",
        "mask1 = total_events_df_2018['selected_level'] == 'easy'\n",
        "selected_level_easy_events_df_2018 = total_events_df_2018[mask1]\n",
        "users_easy_level = selected_level_easy_events_df_2018[\"user_id\"].unique()\n",
        "print(f\"Количество пользователей, выбравших easy-уровень  равно {len(users_easy_level)}\")\n",
        "\n",
        "mask2 = total_events_df_2018['selected_level'] == 'hard'\n",
        "selected_level_hard_events_df_2018 = total_events_df_2018[mask2]\n",
        "users_hard_level = selected_level_hard_events_df_2018[\"user_id\"].unique()\n",
        "print(f\"Количество пользователей, выбравших hard-уровень  равно {len(users_hard_level)}\")\n",
        "\n",
        "mask3 = total_events_df_2018['selected_level'] == 'medium'\n",
        "selected_level_medium_events_df_2018 = total_events_df_2018[mask3]\n",
        "users_medium_level = selected_level_medium_events_df_2018[\"user_id\"].unique()\n",
        "print(f\"Количество пользователей, выбравших medium-уровень  равно {len(users_medium_level)}\")\n",
        "\n",
        "\n",
        "#Подсчет процента оплативших пользователей в зависимости от выбранного уровня сложности\n",
        "purchase_df_easy_level = purchase_df[purchase_df[\"user_id\"].isin(users_easy_level)]\n",
        "percent_of_purchase_easy_level = round(((purchase_df_easy_level[\"user_id\"].nunique() / len(\n",
        "    users_easy_level))*100),2)\n",
        "print(f\"Количество пользователей, выбравших easy-уровень и заплативших от общего числа пользователей,\"\n",
        "      f\" выбравших уровень  равно {percent_of_purchase_easy_level} %\")\n",
        "\n",
        "purchase_df_hard_level = purchase_df[purchase_df[\"user_id\"].isin(users_hard_level)]\n",
        "percent_of_purchase_hard_level = round(((purchase_df_hard_level[\"user_id\"].nunique() / len(\n",
        "    users_hard_level))*100),2)\n",
        "print(f\"Количество пользователей, выбравших hard-уровень и заплативших от общего числа пользователей,\"\n",
        "      f\" выбравших уровень  равно {percent_of_purchase_hard_level} %\")\n",
        "\n",
        "purchase_df_medium_level = purchase_df[purchase_df[\"user_id\"].isin(users_medium_level)]\n",
        "percent_of_purchase_medium_level = round(((purchase_df_medium_level[\"user_id\"].nunique() / len(\n",
        "    users_medium_level))*100),2)\n",
        "print(f\"Количество пользователей, выбравших medium-уровень и заплативших от общего числа пользователей,\"\n",
        "      f\" выбравших уровень  равно {percent_of_purchase_medium_level} %\")\n",
        "\n",
        "#Подсчет среднего времени между событиями оплаты и выбором уровня сложности\n",
        "\n",
        "level_choice_df = total_events_df_2018[(total_events_df_2018['event_type'] == 'level_choice') & (total_events_df_2018['user_id'].isin(registered_2018))]\n",
        "if level_choice_df['user_id'].value_counts().mean() == 1:\n",
        "    selected_level_easy = selected_level_easy_events_df_2018[['user_id', 'start_time']].copy()\n",
        "    selected_level_easy['start_time'] = pd.to_datetime(selected_level_easy['start_time'])\n",
        "    selected_and_purchase_level_easy = purchase_df[purchase_df[\"user_id\"].isin(users_easy_level)].copy()\n",
        "    selected_and_purchase_level_easy['event_datetime'] = pd.to_datetime(selected_and_purchase_level_easy['event_datetime'])\n",
        "    merged_easy_df = selected_level_easy.merge(selected_and_purchase_level_easy, on=\"user_id\", how=\"inner\")\n",
        "    merged_easy_df[\"timedelta\"] = merged_easy_df[\"event_datetime\"] - merged_easy_df[\"start_time\"]\n",
        "    print(f\"Среднее время между событиями оплаты и выбором уровня сложности для пользователей, выбравших easy-уровень\"\n",
        "          f\"  {merged_easy_df['timedelta'].mean()}\")\n",
        "\n",
        "    selected_level_medium = selected_level_medium_events_df_2018[[\"user_id\", \"start_time\"]].copy()\n",
        "    selected_level_medium['start_time'] = pd.to_datetime(selected_level_medium['start_time'])\n",
        "    selected_and_purchase_level_medium = purchase_df[purchase_df[\"user_id\"].isin(users_medium_level)].copy()\n",
        "    selected_and_purchase_level_medium['event_datetime'] = pd.to_datetime(selected_and_purchase_level_medium['event_datetime'])\n",
        "    merged_medium_df = selected_level_medium.merge(selected_and_purchase_level_medium, on=\"user_id\", how=\"inner\")\n",
        "    merged_medium_df[\"timedelta\"] = merged_medium_df[\"event_datetime\"] - merged_medium_df[\"start_time\"]\n",
        "    print(f\"Среднее время между событиями оплаты и выбором уровня сложности для пользователей, выбравших medium-уровень\"\n",
        "          f\"  {merged_medium_df['timedelta'].mean()}\")\n",
        "\n",
        "    selected_level_hard = selected_level_hard_events_df_2018[[\"user_id\", \"start_time\"]].copy()\n",
        "    selected_level_hard['start_time'] = pd.to_datetime(selected_level_hard['start_time'])\n",
        "    selected_and_purchase_level_hard = purchase_df[purchase_df[\"user_id\"].isin(users_hard_level)].copy()\n",
        "    selected_and_purchase_level_hard['event_datetime'] = pd.to_datetime(selected_and_purchase_level_hard['event_datetime'])\n",
        "    merged_hard_df = selected_level_hard.merge(selected_and_purchase_level_hard, on=\"user_id\", how=\"inner\")\n",
        "    merged_hard_df[\"timedelta\"] = merged_hard_df[\"event_datetime\"] - merged_hard_df[\"start_time\"]\n",
        "    print(f\"Среднее время между событиями оплаты и выбором уровня сложности для пользователей, выбравших hard-уровень\"\n",
        "          f\"  {merged_hard_df['timedelta'].mean()}\")\n",
        "else:\n",
        "        print ('Более 1 события выбора уровня сложности')"
      ]
    },
    {
      "cell_type": "markdown",
      "id": "e1de2adb",
      "metadata": {
        "id": "e1de2adb"
      },
      "source": [
        "#Выводы\n",
        "Процент оплативших пользователей, выбравших уровень сложности easy: 7.72% Процент оплативших пользователей, выбравших уровень сложности medium: 20.86% Процент оплативших пользователей, выбравших уровень сложности hard: 35.39%\n",
        "\n",
        "Таким образом, существует прямая зависимость между выбранным уровнем сложности и процент пользователей, которые оплатили тренировки. Пользователи, выбирающие более сложные тренировки, чаще покупают платные тренировки.\n",
        "\n",
        "Наибольшее время между событием выбора уровня сложности и моментом первой оплаты, тратят пользователи, которые выбрали уровень сложности medium. Для них среднее время составляет 3 дня 23 часа, а медианное время 3 дня 19 часов.\n",
        "\n",
        "Чуть меньше времени тратят пользователи, выбравшие уровень сложности easy. Для них среднее время составляет 3 дня 14 часов, а медианное время 3 дня 6 часов.\n",
        "\n",
        "Меньше всего времени на принятие решение о покупке тратят пользователя, выбравшие уровень сложности hard. Для них среднее время составляет 3 дня 7 часов, а медианное время 3 дня 13 часов."
      ]
    }
  ],
  "metadata": {
    "kernelspec": {
      "display_name": "Python 3 (ipykernel)",
      "language": "python",
      "name": "python3"
    },
    "language_info": {
      "codemirror_mode": {
        "name": "ipython",
        "version": 3
      },
      "file_extension": ".py",
      "mimetype": "text/x-python",
      "name": "python",
      "nbconvert_exporter": "python",
      "pygments_lexer": "ipython3",
      "version": "3.9.7"
    },
    "colab": {
      "name": "Nazarov K.E. (level selection).ipynb",
      "provenance": [],
      "collapsed_sections": []
    }
  },
  "nbformat": 4,
  "nbformat_minor": 5
}